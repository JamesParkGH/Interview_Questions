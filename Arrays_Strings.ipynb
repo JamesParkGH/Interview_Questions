{
 "cells": [
  {
   "cell_type": "markdown",
   "id": "1d2da3e6",
   "metadata": {},
   "source": [
    "## Arrays & Strings\n",
    "\n",
    "Arrays\n",
    "- ordered list of values\n",
    "- accessed by index\n",
    "\n",
    "Strings\n",
    "- sequence of characters\n",
    "- immutable (cannot change characters directly)"
   ]
  },
  {
   "cell_type": "code",
   "execution_count": null,
   "id": "ee216268",
   "metadata": {},
   "outputs": [
    {
     "name": "stdout",
     "output_type": "stream",
     "text": [
      "[0, 1]\n"
     ]
    }
   ],
   "source": [
    "def twoSum(nums, target):\n",
    "    for i in range(len(nums)):\n",
    "        for j in range(i + 1, len(nums)):\n",
    "            if nums[i] + nums[j] == target:\n",
    "                return [i, j]\n",
    "    return None\n",
    "\n",
    "print(twoSum([2, 7, 11, 15], 9))"
   ]
  },
  {
   "cell_type": "code",
   "execution_count": null,
   "id": "b7aefae4",
   "metadata": {},
   "outputs": [
    {
     "name": "stdout",
     "output_type": "stream",
     "text": [
      "15\n"
     ]
    }
   ],
   "source": [
    "def findMax(nums):\n",
    "    max_val = nums[0]\n",
    "    for i in range(1, len(nums)):\n",
    "        if nums[i] > max_val:\n",
    "            max_val = nums[i]\n",
    "    return max_val\n",
    "\n",
    "print(findMax([2, 7, 11, 15]))"
   ]
  },
  {
   "cell_type": "code",
   "execution_count": null,
   "id": "694ba319",
   "metadata": {},
   "outputs": [
    {
     "name": "stdout",
     "output_type": "stream",
     "text": [
      "olleh\n"
     ]
    }
   ],
   "source": [
    "def reverseString(s):\n",
    "    reversed_str = \"\"\n",
    "    for i in range(len(s) - 1, -1, -1): # range(start, stop, step)\n",
    "        reversed_str += s[i]\n",
    "    return reversed_str\n",
    "\n",
    "print(reverseString(\"hello\"))"
   ]
  },
  {
   "cell_type": "code",
   "execution_count": 4,
   "id": "250c33fb",
   "metadata": {},
   "outputs": [
    {
     "name": "stdout",
     "output_type": "stream",
     "text": [
      "3\n"
     ]
    }
   ],
   "source": [
    "def countVowels(s):\n",
    "    vowels = \"aeiouAEIOU\"\n",
    "    count = 0\n",
    "    for char in s: # for loop iterates over each character in the string\n",
    "        if char in vowels: # in checks membership\n",
    "            count += 1\n",
    "    return count\n",
    "\n",
    "print(countVowels(\"hello world\"))"
   ]
  },
  {
   "cell_type": "code",
   "execution_count": 6,
   "id": "bdbbeaf5",
   "metadata": {},
   "outputs": [
    {
     "name": "stdout",
     "output_type": "stream",
     "text": [
      "1\n",
      "2\n",
      "3\n"
     ]
    }
   ],
   "source": [
    "# Strings and Arrays\n",
    "s = \"hello\"\n",
    "arr = [1, 2, 3]\n",
    "\n",
    "# Loop\n",
    "for i in range(len(arr)):\n",
    "    print(arr[i])\n",
    "\n",
    "# Conditions\n",
    "if arr[i] > 5:\n",
    "    print(\"Big number\")\n",
    "\n",
    "# Append to array\n",
    "result = []\n",
    "result.append(arr[i])\n",
    "\n",
    "# Build a new string\n",
    "new_str = \"\"\n",
    "new_str += s[i]\n"
   ]
  },
  {
   "cell_type": "markdown",
   "id": "6087c369",
   "metadata": {},
   "source": [
    "Phrases to say:\n",
    "- loop through the array using a basic for loop\n",
    "- compare each character to check\n",
    "- reverse the string using indexing from the back\n",
    "- using if and += to count values"
   ]
  },
  {
   "cell_type": "markdown",
   "id": "5c3fc4c8",
   "metadata": {},
   "source": []
  }
 ],
 "metadata": {
  "kernelspec": {
   "display_name": "base",
   "language": "python",
   "name": "python3"
  },
  "language_info": {
   "codemirror_mode": {
    "name": "ipython",
    "version": 3
   },
   "file_extension": ".py",
   "mimetype": "text/x-python",
   "name": "python",
   "nbconvert_exporter": "python",
   "pygments_lexer": "ipython3",
   "version": "3.11.5"
  }
 },
 "nbformat": 4,
 "nbformat_minor": 5
}
