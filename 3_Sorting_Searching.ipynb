{
 "cells": [
  {
   "cell_type": "markdown",
   "id": "77db5501",
   "metadata": {},
   "source": [
    "## Sorting & Searching\n",
    "\n",
    "Key Sorting Algorithms\n",
    "1. Built-in nums.sort()\n",
    "2. Custom sort words.sort(key=len)\n",
    "3. Binary Search used to find element in sorted array in O(log n)\n",
    "4. Two Pointers\n",
    "5. Merge sorted "
   ]
  },
  {
   "cell_type": "code",
   "execution_count": null,
   "id": "883c19a8",
   "metadata": {},
   "outputs": [
    {
     "name": "stdout",
     "output_type": "stream",
     "text": [
      "4\n"
     ]
    }
   ],
   "source": [
    "def binarySearch(arr, target):\n",
    "    left = 0\n",
    "    right = len(arr) - 1\n",
    "    \n",
    "    while left <= right:\n",
    "        mid = (left + right) // 2\n",
    "        if arr[mid] == target:\n",
    "            return mid\n",
    "        elif arr[mid] < target:\n",
    "            left = mid + 1\n",
    "        else:\n",
    "            right = mid - 1\n",
    "    return -1\n",
    "\n",
    "#example usage\n",
    "arr = [1, 2, 3, 4, 5, 6, 7, 8, 9]\n",
    "target = 5\n",
    "print(binarySearch(arr, target))"
   ]
  },
  {
   "cell_type": "markdown",
   "id": "17279752",
   "metadata": {},
   "source": [
    "Two Pointers Technique\n",
    "- use when array is sorted and you want to find pairs or conditions between elements\n",
    "- e.g. Find if two numbers add to a target"
   ]
  },
  {
   "cell_type": "code",
   "execution_count": 5,
   "id": "904f2e97",
   "metadata": {},
   "outputs": [
    {
     "name": "stdout",
     "output_type": "stream",
     "text": [
      "True\n"
     ]
    }
   ],
   "source": [
    "def twoSumSorted(nums, target):\n",
    "    left = 0\n",
    "    right = len(nums) - 1\n",
    "    while left < right:\n",
    "        curr_sum = nums[left] + nums[right]\n",
    "        if curr_sum == target:\n",
    "            return True\n",
    "        elif curr_sum < target:\n",
    "            left += 1\n",
    "        else:\n",
    "            right -= 1\n",
    "    return False\n",
    "\n",
    "arr = [1, 2, 3, 4, 5, 6, 7, 8, 9]\n",
    "target = 5\n",
    "print(twoSumSorted(arr, target))"
   ]
  },
  {
   "cell_type": "markdown",
   "id": "2b0f00d4",
   "metadata": {},
   "source": [
    "Merge Two Sorted Arrays"
   ]
  },
  {
   "cell_type": "code",
   "execution_count": 6,
   "id": "a6805908",
   "metadata": {},
   "outputs": [
    {
     "name": "stdout",
     "output_type": "stream",
     "text": [
      "[1, 2, 3, 4, 5, 6]\n"
     ]
    }
   ],
   "source": [
    "def mergeSorted(arr1, arr2):\n",
    "    merged = []\n",
    "    i = j = 0\n",
    "    while i < len(arr1) and j < len(arr2):\n",
    "        if arr1[i] < arr2[j]:\n",
    "            merged.append(arr1[i])\n",
    "            i += 1\n",
    "        else:\n",
    "            merged.append(arr2[j])\n",
    "            j += 1\n",
    "    while i < len(arr1):\n",
    "        merged.append(arr1[i])\n",
    "        i += 1\n",
    "    while j < len(arr2):\n",
    "        merged.append(arr2[j])\n",
    "        j += 1\n",
    "    return merged\n",
    "\n",
    "print(mergeSorted([1, 3, 5], [2, 4, 6]))"
   ]
  }
 ],
 "metadata": {
  "kernelspec": {
   "display_name": "base",
   "language": "python",
   "name": "python3"
  },
  "language_info": {
   "codemirror_mode": {
    "name": "ipython",
    "version": 3
   },
   "file_extension": ".py",
   "mimetype": "text/x-python",
   "name": "python",
   "nbconvert_exporter": "python",
   "pygments_lexer": "ipython3",
   "version": "3.11.5"
  }
 },
 "nbformat": 4,
 "nbformat_minor": 5
}
