{
 "cells": [
  {
   "cell_type": "markdown",
   "id": "a878f90e",
   "metadata": {},
   "source": [
    "## HashMaps & Sets\n",
    "\n",
    "HashMap\n",
    "- dictionary in python\n",
    "- store key-value pairs for fast lookup\n",
    "- hashMap = {}\n",
    "- O(1)\n",
    "\n",
    "Set\n",
    "- store unique values, no duplicates\n",
    "- set = set()"
   ]
  },
  {
   "cell_type": "code",
   "execution_count": 2,
   "id": "55d0c6de",
   "metadata": {},
   "outputs": [
    {
     "name": "stdout",
     "output_type": "stream",
     "text": [
      "{'h': 1, 'e': 1, 'l': 3, 'o': 2, ' ': 1, 'w': 1, 'r': 1, 'd': 1}\n"
     ]
    }
   ],
   "source": [
    "def countChars(s):\n",
    "    freq = {} # Dictionary\n",
    "    for i in range(len(s)):\n",
    "        char = s[i]\n",
    "        if char in freq:\n",
    "            freq[char] += 1\n",
    "        else:\n",
    "            freq[char] = 1\n",
    "    return freq\n",
    "\n",
    "print(countChars(\"hello world\"))"
   ]
  },
  {
   "cell_type": "code",
   "execution_count": null,
   "id": "ddc497c2",
   "metadata": {},
   "outputs": [
    {
     "name": "stdout",
     "output_type": "stream",
     "text": [
      "False\n",
      "True\n"
     ]
    }
   ],
   "source": [
    "def hasDuplicate(arr):\n",
    "    seen = set()\n",
    "    for i in range(len(arr)):\n",
    "        if arr[i] in seen: # check if in set\n",
    "            return True\n",
    "        seen.add(arr[i])\n",
    "    return False\n",
    "\n",
    "print(hasDuplicate([1, 2, 3, 4, 5]))\n",
    "print(hasDuplicate([1, 2, 3, 4, 5, 1]))"
   ]
  },
  {
   "cell_type": "code",
   "execution_count": 5,
   "id": "e252b7ed",
   "metadata": {},
   "outputs": [
    {
     "name": "stdout",
     "output_type": "stream",
     "text": [
      "[0, 1]\n",
      "[1, 2]\n"
     ]
    }
   ],
   "source": [
    "def twoSum(nums, target):\n",
    "    map = {}\n",
    "    for i in range(len(nums)):\n",
    "        complement = target - nums[i]\n",
    "        if complement in map:\n",
    "            return [map[complement], i]\n",
    "        map[nums[i]] = i\n",
    "    return []  \n",
    "\n",
    "print(twoSum([2, 7, 11, 15], 9)) # [0, 1]\n",
    "print(twoSum([3, 2, 4], 6)) # [1, 2]"
   ]
  },
  {
   "cell_type": "code",
   "execution_count": 6,
   "id": "6810ac21",
   "metadata": {},
   "outputs": [
    {
     "name": "stdout",
     "output_type": "stream",
     "text": [
      "0\n"
     ]
    }
   ],
   "source": [
    "def firstUnique(s):\n",
    "    count = {}\n",
    "    for i in range(len(s)):\n",
    "        char = s[i]\n",
    "        count[char] = count.get(char, 0) + 1 # get() method returns the value for the key if it is in the dictionary, else default value\n",
    "    for i in range(len(s)):\n",
    "        if count[s[i]] == 1:\n",
    "            return i\n",
    "    return -1\n",
    "\n",
    "print(firstUnique(\"leetcode\")) # 0  "
   ]
  },
  {
   "cell_type": "markdown",
   "id": "b6d9fcdc",
   "metadata": {},
   "source": [
    "HashMap Patterns\n",
    "- map.get(key,0) \n",
    "  - safe way to count\n",
    "- key in map\n",
    "  - check existence\n",
    "- map[key] = value\n",
    "  - inset/update\n",
    "- set.add(x)\n",
    "  - add to set\n",
    "- x in set\n",
    "  - check if seen\n",
    "\n",
    "Use cases\n",
    "- fast lookup\n",
    "- count items: hashmap\n",
    "- uniqueness: set\n",
    "- reverse mapping: hashmap\n",
    "- compare frequency: hashamp"
   ]
  },
  {
   "cell_type": "code",
   "execution_count": null,
   "id": "90d17697",
   "metadata": {},
   "outputs": [],
   "source": []
  },
  {
   "cell_type": "markdown",
   "id": "2e2b3108",
   "metadata": {},
   "source": []
  }
 ],
 "metadata": {
  "kernelspec": {
   "display_name": "base",
   "language": "python",
   "name": "python3"
  },
  "language_info": {
   "codemirror_mode": {
    "name": "ipython",
    "version": 3
   },
   "file_extension": ".py",
   "mimetype": "text/x-python",
   "name": "python",
   "nbconvert_exporter": "python",
   "pygments_lexer": "ipython3",
   "version": "3.11.5"
  }
 },
 "nbformat": 4,
 "nbformat_minor": 5
}
