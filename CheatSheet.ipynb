{
 "cells": [
  {
   "cell_type": "markdown",
   "id": "9de54456",
   "metadata": {},
   "source": [
    "## Time and Space Complexity\n",
    "Big-O tells how efficient algorithm is as input grows\n",
    "- time complexity: how fast code runs\n",
    "- space complexity: how much extra memory it uses\n",
    "\n",
    "Common time complexities by operation\n",
    "- access array index: O(1)\n",
    "- search in unsorted array: O(n)\n",
    "- search in sorted array (binary search): O(logn)\n",
    "- hashmap insert/find: O(1)\n",
    "- string concat: O(n)\n",
    "- sorting (best general): O(nlogn)\n",
    "- nested loops over input: O(n^2)\n",
    "\n",
    "Rules of thumb\n",
    "- drop constants: O(2n) -> O(n)\n",
    "- drop lower terms: O(n + logn) -> O(n)"
   ]
  },
  {
   "cell_type": "markdown",
   "id": "aaf014fd",
   "metadata": {},
   "source": [
    "## Linked List"
   ]
  },
  {
   "cell_type": "code",
   "execution_count": 1,
   "id": "28637e27",
   "metadata": {},
   "outputs": [],
   "source": [
    "class SinglyNode:\n",
    "    def __init__(self, val, next=None):\n",
    "        self.val = val\n",
    "        self.next = next\n",
    "    def __str__(self):\n",
    "        return str(self.val)\n",
    "\n",
    "Head = SinglyNode(1)\n",
    "A = SinglyNode(2)\n",
    "B = SinglyNode(3)\n",
    "C = SinglyNode(4)\n",
    "\n",
    "Head.next = A\n",
    "A.next = B \n",
    "B.next = C"
   ]
  },
  {
   "cell_type": "code",
   "execution_count": null,
   "id": "15e26e7a",
   "metadata": {},
   "outputs": [
    {
     "name": "stdout",
     "output_type": "stream",
     "text": [
      "1\n",
      "2\n",
      "3\n",
      "4\n"
     ]
    }
   ],
   "source": [
    "# Traverse the linked list\n",
    "def traverse(head):\n",
    "    curr = head\n",
    "    while curr:\n",
    "        print(curr)\n",
    "        curr = curr.next\n",
    "traverse(Head)"
   ]
  },
  {
   "cell_type": "code",
   "execution_count": 6,
   "id": "8b046071",
   "metadata": {},
   "outputs": [
    {
     "name": "stdout",
     "output_type": "stream",
     "text": [
      "1 -> 2 -> 3 -> 4\n"
     ]
    }
   ],
   "source": [
    "# Display the linked list O(n)\n",
    "def display(head):\n",
    "    curr = head\n",
    "    elements = []\n",
    "    while curr:\n",
    "        elements.append(str(curr.val))\n",
    "        curr = curr.next\n",
    "    return ' -> '.join(elements)\n",
    "print(display(Head))"
   ]
  },
  {
   "cell_type": "markdown",
   "id": "32832dfb",
   "metadata": {},
   "source": [
    "## Sliding Window"
   ]
  },
  {
   "cell_type": "code",
   "execution_count": null,
   "id": "2b96e842",
   "metadata": {},
   "outputs": [],
   "source": [
    "\"\"\"\n",
    "A generic template for dynamic sliding window finding min window length\n",
    "\"\"\"\n",
    "def shortest_window(nums, condition):\n",
    "    i = 0\n",
    "    min_length = float('inf')\n",
    "    result = None\n",
    "\n",
    "    for j in range(len(nums)):\n",
    "        # Expand the window\n",
    "        # Add nums[j] to the current window logic\n",
    "\n",
    "        # Shrink window as long as the condition is met\n",
    "        while condition():  \n",
    "            # Update the result if the current window is smaller\n",
    "            if j - i + 1 < min_length:\n",
    "                min_length = j - i + 1\n",
    "                # Add business logic to update result\n",
    "\n",
    "            # Shrink the window from the left\n",
    "            # Remove nums[i] from the current window logic\n",
    "            i += 1\n",
    "\n",
    "    return result\n",
    "\n",
    "\"\"\"\n",
    "A generic template for dynamic sliding window finding max window length\n",
    "\"\"\"\n",
    "def longest_window(nums, condition):\n",
    "    i = 0\n",
    "    max_length = 0\n",
    "    result = None\n",
    "\n",
    "    for j in range(len(nums)):\n",
    "        # Expand the window\n",
    "        # Add nums[j] to the current window logic\n",
    "\n",
    "        # Shrink the window if the condition is violated\n",
    "        while not condition():  \n",
    "            # Shrink the window from the left\n",
    "            # Remove nums[i] from the current window logic\n",
    "            i += 1\n",
    "\n",
    "        # Update the result if the current window is larger\n",
    "        if j - i + 1 > max_length:\n",
    "            max_length = j - i + 1\n",
    "            # Add business logic to update result\n",
    "\n",
    "    return result\n",
    "\n",
    "\"\"\"\n",
    "A generic template for sliding window of fixed size\n",
    "\"\"\"\n",
    "def window_fixed_size(nums, k):\n",
    "    i = 0\n",
    "    result = None\n",
    "\n",
    "    for j in range(len(nums)):\n",
    "        # Expand the window\n",
    "        # Add nums[j] to the current window logic\n",
    "\n",
    "        # Ensure window has size of K\n",
    "        if (j - i + 1) < k:\n",
    "            continue\n",
    "\n",
    "        # Update Result\n",
    "        # Remove nums[i] from window\n",
    "        # increment i to maintain fixed window size of length k\n",
    "        i += 1\n",
    "\n",
    "    return result"
   ]
  },
  {
   "cell_type": "code",
   "execution_count": 7,
   "id": "545ba93f",
   "metadata": {},
   "outputs": [
    {
     "name": "stdout",
     "output_type": "stream",
     "text": [
      "Max sum of subarray of size 3: 12\n"
     ]
    }
   ],
   "source": [
    "def max_sum_subarray(arr, k):\n",
    "    max_sum = float('-inf')\n",
    "    current_sum = 0\n",
    "    i = 0\n",
    "    for j in range(len(arr)):\n",
    "        current_sum += arr[j]\n",
    "        if j - i + 1 == k:\n",
    "            max_sum = max(max_sum, current_sum)\n",
    "            current_sum -= arr[i]\n",
    "            i +=1\n",
    "    return max_sum\n",
    "max_sum = max_sum_subarray([1, 2, 3, 4, 5], 3)\n",
    "print(f'Max sum of subarray of size 3: {max_sum}')"
   ]
  },
  {
   "cell_type": "code",
   "execution_count": 9,
   "id": "f4682aab",
   "metadata": {},
   "outputs": [
    {
     "name": "stdout",
     "output_type": "stream",
     "text": [
      "Count of good substrings of size 3: 0\n"
     ]
    }
   ],
   "source": [
    "def countGoodSubstrings(s ,k):\n",
    "    count = 0\n",
    "    i = 0\n",
    "    char_count = {}\n",
    "    \n",
    "    for j in range(len(s)):\n",
    "        char_count[s[j]] = char_count.get(s[j], 0) + 1\n",
    "        \n",
    "        if j - i + 1 == k:\n",
    "            if len(char_count) == k:\n",
    "                count += 1\n",
    "            \n",
    "            char_count[s[i]] -= 1\n",
    "            if char_count[s[i]] == 0:\n",
    "                del char_count[s[i]]\n",
    "            i += 1\n",
    "            \n",
    "    return count\n",
    "good_substrings_count = countGoodSubstrings(\"aabbcc\", 3)\n",
    "print(f'Count of good substrings of size 3: {good_substrings_count}')"
   ]
  },
  {
   "cell_type": "markdown",
   "id": "c97d1081",
   "metadata": {},
   "source": [
    "## Two Pointers"
   ]
  },
  {
   "cell_type": "markdown",
   "id": "2193461a",
   "metadata": {},
   "source": [
    "When to use it?\n",
    "- Linear data structures (arrays, lists, strings)\n",
    "- When you need to scan the start and end of a list\n",
    "- When you have a sorted list and need to find pairs\n",
    "- Removing duplicates or filtering"
   ]
  },
  {
   "cell_type": "code",
   "execution_count": null,
   "id": "0f70589d",
   "metadata": {},
   "outputs": [],
   "source": [
    "def two_pointer_template(input):\n",
    "    # Initialize pointers\n",
    "    i = 0\n",
    "    j = len(input) - 1\n",
    "    result = None\n",
    "\n",
    "    # Iterate while pointers do not cross\n",
    "    while i < j:\n",
    "        # Process the elements at both pointers\n",
    "\n",
    "        # Adjust the pointers based on specific conditions\n",
    "        # i += 1 or j -= 1\n",
    "\n",
    "        # Break or continue based on a condition if required\n",
    "\n",
    "    # Return the final result or process output\n",
    "    return result"
   ]
  },
  {
   "cell_type": "code",
   "execution_count": 11,
   "id": "66cc0635",
   "metadata": {},
   "outputs": [
    {
     "name": "stdout",
     "output_type": "stream",
     "text": [
      "Is \"R ace car\" a palindrome? True\n"
     ]
    }
   ],
   "source": [
    "def isPalindrome(s):\n",
    "    i = 0 \n",
    "    j = len(s) - 1\n",
    "    while i < j:\n",
    "        while i < j and not s[i].isalnum():\n",
    "            i += 1\n",
    "        while i < j and not s[j].isalnum():\n",
    "            j -= 1\n",
    "        if s[i].lower() != s[j].lower():\n",
    "            return False\n",
    "        i += 1\n",
    "        j -= 1\n",
    "    return True\n",
    "\n",
    "print(f'Is \"R ace car\" a palindrome? {isPalindrome(\"R ace car\")}')             "
   ]
  },
  {
   "cell_type": "code",
   "execution_count": null,
   "id": "8db000a4",
   "metadata": {},
   "outputs": [],
   "source": [
    "def threeSum(nums):\n",
    "    nums.sort()\n",
    "    result = []\n",
    "    n = len(nums)\n",
    "    \n",
    "    for i in range(n):\n",
    "        if i > 0 and nums[i] == nums[i - 1]:\n",
    "            continue  # Skip duplicates\n",
    "        \n",
    "        j, k = i + 1, n - 1\n",
    "        while j < k:\n",
    "            total = nums[i] + nums[j] + nums[k]\n",
    "            if total < 0:\n",
    "                j += 1\n",
    "            elif total > 0:\n",
    "                k -= 1\n",
    "            else:\n",
    "                result.append([nums[i], nums[j], nums[k]])\n",
    "                while j < k and nums[j] == nums[j + 1]:\n",
    "                    j += 1  # Skip duplicates\n",
    "                while j < k and nums[k] == nums[k - 1]:\n",
    "                    k -= 1  # Skip duplicates\n",
    "                j += 1\n",
    "                k -= 1\n",
    "                \n",
    "    return result"
   ]
  },
  {
   "cell_type": "code",
   "execution_count": 14,
   "id": "d186825b",
   "metadata": {},
   "outputs": [
    {
     "name": "stdout",
     "output_type": "stream",
     "text": [
      "49\n"
     ]
    }
   ],
   "source": [
    "class Solution:\n",
    "    def maxArea(self, height) -> int:\n",
    "        i, j = 0, len(height) - 1\n",
    "        max_area = 0\n",
    "        \n",
    "        while i < j:\n",
    "            width = j - i\n",
    "            current_height = min(height[i], height[j])\n",
    "            area = width * current_height\n",
    "            max_area = max(max_area, area)\n",
    "            \n",
    "            if height[i] < height[j]:\n",
    "                i += 1\n",
    "            else:\n",
    "                j -= 1\n",
    "                \n",
    "        return max_area\n",
    "\n",
    "# Example usage of maxArea\n",
    "solution = Solution() \n",
    "print(solution.maxArea([1,8,6,2,5,4,8,3,7]))  # Output: 49"
   ]
  },
  {
   "cell_type": "code",
   "execution_count": null,
   "id": "8ece67a6",
   "metadata": {},
   "outputs": [],
   "source": []
  }
 ],
 "metadata": {
  "kernelspec": {
   "display_name": "base",
   "language": "python",
   "name": "python3"
  },
  "language_info": {
   "codemirror_mode": {
    "name": "ipython",
    "version": 3
   },
   "file_extension": ".py",
   "mimetype": "text/x-python",
   "name": "python",
   "nbconvert_exporter": "python",
   "pygments_lexer": "ipython3",
   "version": "3.11.5"
  }
 },
 "nbformat": 4,
 "nbformat_minor": 5
}
