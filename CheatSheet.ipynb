{
 "cells": [
  {
   "cell_type": "markdown",
   "id": "9de54456",
   "metadata": {},
   "source": [
    "## Time and Space Complexity\n",
    "Big-O tells how efficient algorithm is as input grows\n",
    "- time complexity: how fast code runs\n",
    "- space complexity: how much extra memory it uses\n",
    "\n",
    "Common time complexities by operation\n",
    "- access array index: O(1)\n",
    "- search in unsorted array: O(n)\n",
    "- search in sorted array (binary search): O(logn)\n",
    "- hashmap insert/find: O(1)\n",
    "- string concat: O(n)\n",
    "- sorting (best general): O(nlogn)\n",
    "- nested loops over input: O(n^2)\n",
    "\n",
    "Rules of thumb\n",
    "- drop constants: O(2n) -> O(n)\n",
    "- drop lower terms: O(n + logn) -> O(n)"
   ]
  },
  {
   "cell_type": "code",
   "execution_count": 1,
   "id": "28637e27",
   "metadata": {},
   "outputs": [],
   "source": [
    "class SinglyNode:\n",
    "    def __init__(self, val, next=None):\n",
    "        self.val = val\n",
    "        self.next = next\n",
    "    def __str__(self):\n",
    "        return str(self.val)\n",
    "\n",
    "Head = SinglyNode(1)\n",
    "A = SinglyNode(2)\n",
    "B = SinglyNode(3)\n",
    "C = SinglyNode(4)\n",
    "\n",
    "Head.next = A\n",
    "A.next = B \n",
    "B.next = C"
   ]
  },
  {
   "cell_type": "code",
   "execution_count": null,
   "id": "15e26e7a",
   "metadata": {},
   "outputs": [
    {
     "name": "stdout",
     "output_type": "stream",
     "text": [
      "1\n",
      "2\n",
      "3\n",
      "4\n"
     ]
    }
   ],
   "source": [
    "# Traverse the linked list\n",
    "def traverse(head):\n",
    "    curr = head\n",
    "    while curr:\n",
    "        print(curr)\n",
    "        curr = curr.next\n",
    "traverse(Head)"
   ]
  },
  {
   "cell_type": "code",
   "execution_count": 6,
   "id": "8b046071",
   "metadata": {},
   "outputs": [
    {
     "name": "stdout",
     "output_type": "stream",
     "text": [
      "1 -> 2 -> 3 -> 4\n"
     ]
    }
   ],
   "source": [
    "# Display the linked list O(n)\n",
    "def display(head):\n",
    "    curr = head\n",
    "    elements = []\n",
    "    while curr:\n",
    "        elements.append(str(curr.val))\n",
    "        curr = curr.next\n",
    "    return ' -> '.join(elements)\n",
    "print(display(Head))"
   ]
  },
  {
   "cell_type": "code",
   "execution_count": null,
   "id": "2b96e842",
   "metadata": {},
   "outputs": [],
   "source": []
  }
 ],
 "metadata": {
  "kernelspec": {
   "display_name": "base",
   "language": "python",
   "name": "python3"
  },
  "language_info": {
   "codemirror_mode": {
    "name": "ipython",
    "version": 3
   },
   "file_extension": ".py",
   "mimetype": "text/x-python",
   "name": "python",
   "nbconvert_exporter": "python",
   "pygments_lexer": "ipython3",
   "version": "3.11.5"
  }
 },
 "nbformat": 4,
 "nbformat_minor": 5
}
